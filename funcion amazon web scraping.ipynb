{
 "cells": [
  {
   "cell_type": "code",
   "execution_count": 18,
   "id": "80d4d7a0",
   "metadata": {},
   "outputs": [],
   "source": [
    "import requests\n",
    "from bs4 import BeautifulSoup\n",
    "import pandas as pd\n",
    "\n",
    "def scrapear_pagina_amazon (url=str, header_value=str):\n",
    "    headers = {\"user-agent\":header_value}\n",
    "    peticion = requests.get(url, headers=headers)\n",
    "    #print(\"Status de la petición:\",peticion) \n",
    "    codigo_fuente= peticion.text\n",
    "    sopa= BeautifulSoup(codigo_fuente, 'html.parser')\n",
    "    comentarios= sopa.find(\"div\",class_=\"a-section review-views celwidget\")\n",
    "    comentario_lista= sopa.find_all(\"div\", class_=\"a-section review aok-relative\")\n",
    "    estrellas= [n.find(\"span\",class_=\"a-icon-alt\") for n in comentario_lista]\n",
    "    estrellas_2=[n.get_text(\" \") for n in estrellas]\n",
    "    slice_object = slice(4)\n",
    "    estrellas_3 = [n[slice_object] for n in estrellas_2]\n",
    "    estrellas_end = [n.replace(\",\",\".\") for n in estrellas_3]\n",
    "    comentarios_clean= [n.find(\"div\", class_=\"a-expander-content reviewText review-text-content a-expander-partial-collapse-content\") for n in comentarios]\n",
    "    comentarios_clean= [n.find(\"span\") for n in comentarios_clean]\n",
    "    comentarios_clean= [n.get_text(\" \") for n in comentarios_clean]\n",
    "    comentarios_end= [n.strip() for n in comentarios_clean]\n",
    "    stars_comments=list(zip(estrellas_end,comentarios_end))\n",
    "    df = pd.DataFrame.from_records(stars_comments, columns =['Rate', 'Comment'])\n",
    "    df[\"Rate\"].astype(float)\n",
    "    \n",
    "    return df"
   ]
  },
  {
   "cell_type": "code",
   "execution_count": 20,
   "id": "a9444ad3",
   "metadata": {},
   "outputs": [
    {
     "data": {
      "text/html": [
       "<div>\n",
       "<style scoped>\n",
       "    .dataframe tbody tr th:only-of-type {\n",
       "        vertical-align: middle;\n",
       "    }\n",
       "\n",
       "    .dataframe tbody tr th {\n",
       "        vertical-align: top;\n",
       "    }\n",
       "\n",
       "    .dataframe thead th {\n",
       "        text-align: right;\n",
       "    }\n",
       "</style>\n",
       "<table border=\"1\" class=\"dataframe\">\n",
       "  <thead>\n",
       "    <tr style=\"text-align: right;\">\n",
       "      <th></th>\n",
       "      <th>Rate</th>\n",
       "      <th>Comment</th>\n",
       "    </tr>\n",
       "  </thead>\n",
       "  <tbody>\n",
       "    <tr>\n",
       "      <th>0</th>\n",
       "      <td>2.0</td>\n",
       "      <td>Escribi para asistencia por email unas 4 o 5 v...</td>\n",
       "    </tr>\n",
       "    <tr>\n",
       "      <th>1</th>\n",
       "      <td>2.0</td>\n",
       "      <td>No viene bien diseñada la cubierta delantera, ...</td>\n",
       "    </tr>\n",
       "    <tr>\n",
       "      <th>2</th>\n",
       "      <td>1.0</td>\n",
       "      <td>La bicicleta es muy chula para la vista, pero ...</td>\n",
       "    </tr>\n",
       "    <tr>\n",
       "      <th>3</th>\n",
       "      <td>1.0</td>\n",
       "      <td>El producto visualmente tiene muy buen aspecto...</td>\n",
       "    </tr>\n",
       "    <tr>\n",
       "      <th>4</th>\n",
       "      <td>4.0</td>\n",
       "      <td>Me encanta el chasis , la suspensión trasera e...</td>\n",
       "    </tr>\n",
       "    <tr>\n",
       "      <th>5</th>\n",
       "      <td>5.0</td>\n",
       "      <td>La compre hace 2 meses para mi novia y asta el...</td>\n",
       "    </tr>\n",
       "    <tr>\n",
       "      <th>6</th>\n",
       "      <td>1.0</td>\n",
       "      <td>Buenos dias,la bici un desastre,una empuñadura...</td>\n",
       "    </tr>\n",
       "    <tr>\n",
       "      <th>7</th>\n",
       "      <td>2.0</td>\n",
       "      <td>Decepción total,el envio estuvo muy bien y ráp...</td>\n",
       "    </tr>\n",
       "  </tbody>\n",
       "</table>\n",
       "</div>"
      ],
      "text/plain": [
       "   Rate                                            Comment\n",
       "0  2.0   Escribi para asistencia por email unas 4 o 5 v...\n",
       "1  2.0   No viene bien diseñada la cubierta delantera, ...\n",
       "2  1.0   La bicicleta es muy chula para la vista, pero ...\n",
       "3  1.0   El producto visualmente tiene muy buen aspecto...\n",
       "4  4.0   Me encanta el chasis , la suspensión trasera e...\n",
       "5  5.0   La compre hace 2 meses para mi novia y asta el...\n",
       "6  1.0   Buenos dias,la bici un desastre,una empuñadura...\n",
       "7  2.0   Decepción total,el envio estuvo muy bien y ráp..."
      ]
     },
     "execution_count": 20,
     "metadata": {},
     "output_type": "execute_result"
    }
   ],
   "source": [
    "scrapear_pagina_amazon('https://www.amazon.es/Moma-Bicicleta-Mountainbike-aluminio-suspensi%C3%B3n/dp/B00VXE2JCY/ref=lp_2929469031_1_1?s=sports&ie=UTF8&qid=1465237289&sr=1-1&th=1'\n",
    ", \"Chrome/51.0.2704.103\")"
   ]
  },
  {
   "cell_type": "code",
   "execution_count": null,
   "id": "ddde837a",
   "metadata": {},
   "outputs": [],
   "source": []
  }
 ],
 "metadata": {
  "kernelspec": {
   "display_name": "Python 3",
   "language": "python",
   "name": "python3"
  },
  "language_info": {
   "codemirror_mode": {
    "name": "ipython",
    "version": 3
   },
   "file_extension": ".py",
   "mimetype": "text/x-python",
   "name": "python",
   "nbconvert_exporter": "python",
   "pygments_lexer": "ipython3",
   "version": "3.8.8"
  }
 },
 "nbformat": 4,
 "nbformat_minor": 5
}
